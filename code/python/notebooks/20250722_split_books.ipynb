{
 "cells": [
  {
   "cell_type": "code",
   "execution_count": 1,
   "metadata": {},
   "outputs": [],
   "source": [
    "import sys\n",
    "import os\n",
    "import glob\n",
    "import re \n",
    "import pandas as pd\n",
    "import numpy as np\n",
    "from lxml import etree\n",
    "import matplotlib.pyplot as plt\n",
    "import requests\n",
    "import time\n",
    "from collections import Counter\n"
   ]
  },
  {
   "cell_type": "code",
   "execution_count": 2,
   "metadata": {},
   "outputs": [],
   "source": [
    "document = etree.parse('./../../../TEIBible.xml')"
   ]
  },
  {
   "cell_type": "code",
   "execution_count": 3,
   "metadata": {},
   "outputs": [],
   "source": [
    "root = document.getroot()"
   ]
  },
  {
   "cell_type": "code",
   "execution_count": 4,
   "metadata": {},
   "outputs": [],
   "source": [
    "namespaces_concretos = {\"tei\" : \"http://www.tei-c.org/ns/1.0\"}\n"
   ]
  },
  {
   "cell_type": "code",
   "execution_count": 5,
   "metadata": {},
   "outputs": [
    {
     "data": {
      "text/plain": [
       "[<Element {http://www.tei-c.org/ns/1.0}TEI at 0x23b04e0f300>,\n",
       " <Element {http://www.tei-c.org/ns/1.0}TEI at 0x23b0165b2c0>,\n",
       " <Element {http://www.tei-c.org/ns/1.0}TEI at 0x23b04e20200>,\n",
       " <Element {http://www.tei-c.org/ns/1.0}TEI at 0x23b04e20280>,\n",
       " <Element {http://www.tei-c.org/ns/1.0}TEI at 0x23b04e20300>,\n",
       " <Element {http://www.tei-c.org/ns/1.0}TEI at 0x23b04e20380>,\n",
       " <Element {http://www.tei-c.org/ns/1.0}TEI at 0x23b04e203c0>,\n",
       " <Element {http://www.tei-c.org/ns/1.0}TEI at 0x23b04e20400>,\n",
       " <Element {http://www.tei-c.org/ns/1.0}TEI at 0x23b04e20440>,\n",
       " <Element {http://www.tei-c.org/ns/1.0}TEI at 0x23b04e20340>,\n",
       " <Element {http://www.tei-c.org/ns/1.0}TEI at 0x23b04e20480>,\n",
       " <Element {http://www.tei-c.org/ns/1.0}TEI at 0x23b04e204c0>,\n",
       " <Element {http://www.tei-c.org/ns/1.0}TEI at 0x23b04e20500>,\n",
       " <Element {http://www.tei-c.org/ns/1.0}TEI at 0x23b04e20540>,\n",
       " <Element {http://www.tei-c.org/ns/1.0}TEI at 0x23b04e20580>,\n",
       " <Element {http://www.tei-c.org/ns/1.0}TEI at 0x23b04e205c0>,\n",
       " <Element {http://www.tei-c.org/ns/1.0}TEI at 0x23b04e20600>,\n",
       " <Element {http://www.tei-c.org/ns/1.0}TEI at 0x23b04e20640>,\n",
       " <Element {http://www.tei-c.org/ns/1.0}TEI at 0x23b04e20680>,\n",
       " <Element {http://www.tei-c.org/ns/1.0}TEI at 0x23b04e206c0>,\n",
       " <Element {http://www.tei-c.org/ns/1.0}TEI at 0x23b04e20700>,\n",
       " <Element {http://www.tei-c.org/ns/1.0}TEI at 0x23b04e20740>,\n",
       " <Element {http://www.tei-c.org/ns/1.0}TEI at 0x23b04e20780>,\n",
       " <Element {http://www.tei-c.org/ns/1.0}TEI at 0x23b04e207c0>,\n",
       " <Element {http://www.tei-c.org/ns/1.0}TEI at 0x23b04e20800>,\n",
       " <Element {http://www.tei-c.org/ns/1.0}TEI at 0x23b04e20840>,\n",
       " <Element {http://www.tei-c.org/ns/1.0}TEI at 0x23b04e20880>,\n",
       " <Element {http://www.tei-c.org/ns/1.0}TEI at 0x23b04e208c0>,\n",
       " <Element {http://www.tei-c.org/ns/1.0}TEI at 0x23b04e20900>,\n",
       " <Element {http://www.tei-c.org/ns/1.0}TEI at 0x23b04e20940>,\n",
       " <Element {http://www.tei-c.org/ns/1.0}TEI at 0x23b04e20980>,\n",
       " <Element {http://www.tei-c.org/ns/1.0}TEI at 0x23b04e209c0>,\n",
       " <Element {http://www.tei-c.org/ns/1.0}TEI at 0x23b04e20a00>,\n",
       " <Element {http://www.tei-c.org/ns/1.0}TEI at 0x23b04e20a40>,\n",
       " <Element {http://www.tei-c.org/ns/1.0}TEI at 0x23b04e20a80>,\n",
       " <Element {http://www.tei-c.org/ns/1.0}TEI at 0x23b04e20ac0>,\n",
       " <Element {http://www.tei-c.org/ns/1.0}TEI at 0x23b04e20b00>,\n",
       " <Element {http://www.tei-c.org/ns/1.0}TEI at 0x23b04e20b40>,\n",
       " <Element {http://www.tei-c.org/ns/1.0}TEI at 0x23b04e20b80>,\n",
       " <Element {http://www.tei-c.org/ns/1.0}TEI at 0x23b04e20bc0>,\n",
       " <Element {http://www.tei-c.org/ns/1.0}TEI at 0x23b04e20c00>,\n",
       " <Element {http://www.tei-c.org/ns/1.0}TEI at 0x23b04e20c40>,\n",
       " <Element {http://www.tei-c.org/ns/1.0}TEI at 0x23b04e20c80>,\n",
       " <Element {http://www.tei-c.org/ns/1.0}TEI at 0x23b04e20cc0>,\n",
       " <Element {http://www.tei-c.org/ns/1.0}TEI at 0x23b04e20d00>,\n",
       " <Element {http://www.tei-c.org/ns/1.0}TEI at 0x23b04e20d40>,\n",
       " <Element {http://www.tei-c.org/ns/1.0}TEI at 0x23b04e20d80>,\n",
       " <Element {http://www.tei-c.org/ns/1.0}TEI at 0x23b04e20dc0>,\n",
       " <Element {http://www.tei-c.org/ns/1.0}TEI at 0x23b04e20e00>,\n",
       " <Element {http://www.tei-c.org/ns/1.0}TEI at 0x23b04e20e40>,\n",
       " <Element {http://www.tei-c.org/ns/1.0}TEI at 0x23b04e20e80>,\n",
       " <Element {http://www.tei-c.org/ns/1.0}TEI at 0x23b04e20ec0>,\n",
       " <Element {http://www.tei-c.org/ns/1.0}TEI at 0x23b04e20f00>,\n",
       " <Element {http://www.tei-c.org/ns/1.0}TEI at 0x23b04e20f40>,\n",
       " <Element {http://www.tei-c.org/ns/1.0}TEI at 0x23b04e20f80>,\n",
       " <Element {http://www.tei-c.org/ns/1.0}TEI at 0x23b04e20fc0>,\n",
       " <Element {http://www.tei-c.org/ns/1.0}TEI at 0x23b04e21000>,\n",
       " <Element {http://www.tei-c.org/ns/1.0}TEI at 0x23b04e21040>,\n",
       " <Element {http://www.tei-c.org/ns/1.0}TEI at 0x23b04e21080>,\n",
       " <Element {http://www.tei-c.org/ns/1.0}TEI at 0x23b04e210c0>,\n",
       " <Element {http://www.tei-c.org/ns/1.0}TEI at 0x23b04e21100>,\n",
       " <Element {http://www.tei-c.org/ns/1.0}TEI at 0x23b04e21140>,\n",
       " <Element {http://www.tei-c.org/ns/1.0}TEI at 0x23b04e21180>,\n",
       " <Element {http://www.tei-c.org/ns/1.0}TEI at 0x23b04e211c0>,\n",
       " <Element {http://www.tei-c.org/ns/1.0}TEI at 0x23b04e21200>,\n",
       " <Element {http://www.tei-c.org/ns/1.0}TEI at 0x23b04e21240>]"
      ]
     },
     "execution_count": 5,
     "metadata": {},
     "output_type": "execute_result"
    }
   ],
   "source": [
    "root.xpath('/tei:teiCorpus/tei:TEI', namespaces=namespaces_concretos)"
   ]
  },
  {
   "cell_type": "code",
   "execution_count": 9,
   "metadata": {},
   "outputs": [
    {
     "name": "stdout",
     "output_type": "stream",
     "text": [
      "GEN 00\n",
      "EXO 01\n",
      "LEV 02\n",
      "NUM 03\n",
      "DEU 04\n",
      "JOS 05\n",
      "JDG 06\n",
      "RUT 07\n",
      "1SA 08\n",
      "2SA 09\n",
      "1KI 10\n",
      "2KI 11\n",
      "1CH 12\n",
      "2CH 13\n",
      "EZR 14\n",
      "NEH 15\n",
      "EST 16\n",
      "JOB 17\n",
      "PSA 18\n",
      "PRO 19\n",
      "ECC 20\n",
      "SON 21\n",
      "ISA 22\n",
      "JER 23\n",
      "LAM 24\n",
      "EZE 25\n",
      "DAN 26\n",
      "HOS 27\n",
      "JOE 28\n",
      "AMO 29\n",
      "OBA 30\n",
      "JON 31\n",
      "MIC 32\n",
      "NAH 33\n",
      "HAB 34\n",
      "ZEP 35\n",
      "HAG 36\n",
      "ZEC 37\n",
      "MAL 38\n",
      "MAT 39\n",
      "MAR 40\n",
      "LUK 41\n",
      "JOH 42\n",
      "ACT 43\n",
      "ROM 44\n",
      "1CO 45\n",
      "2CO 46\n",
      "GAL 47\n",
      "EPH 48\n",
      "PHI 49\n",
      "COL 50\n",
      "1TH 51\n",
      "2TH 52\n",
      "1TI 53\n",
      "2TI 54\n",
      "TIT 55\n",
      "PHM 56\n",
      "HEB 57\n",
      "JAM 58\n",
      "1PE 59\n",
      "2PE 60\n",
      "1JO 61\n",
      "2JO 62\n",
      "3JO 63\n",
      "JUD 64\n",
      "REV 65\n"
     ]
    }
   ],
   "source": [
    "for book in root.xpath('/tei:teiCorpus/tei:TEI', namespaces=namespaces_concretos):\n",
    "    string_book = book.xpath('.//tei:bibl[@type=\"abbreviation\"]/text()', namespaces=namespaces_concretos)[0]\n",
    "    nr_book = book.xpath('.//tei:bibl[@type=\"abbreviation\"]/@n', namespaces=namespaces_concretos)[0]\n",
    "\n",
    "    print(string_book, nr_book)\n",
    "    et = etree.ElementTree(book)\n",
    "    et.write('./../../../resulting data/split/' + nr_book + '_' + string_book +  '.xml', encoding=\"utf8\")    "
   ]
  },
  {
   "cell_type": "code",
   "execution_count": null,
   "metadata": {},
   "outputs": [],
   "source": []
  }
 ],
 "metadata": {
  "kernelspec": {
   "display_name": "base",
   "language": "python",
   "name": "python3"
  },
  "language_info": {
   "codemirror_mode": {
    "name": "ipython",
    "version": 3
   },
   "file_extension": ".py",
   "mimetype": "text/x-python",
   "name": "python",
   "nbconvert_exporter": "python",
   "pygments_lexer": "ipython3",
   "version": "3.11.7"
  },
  "orig_nbformat": 2
 },
 "nbformat": 4,
 "nbformat_minor": 2
}
