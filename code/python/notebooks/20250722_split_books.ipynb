{
 "cells": [
  {
   "cell_type": "code",
   "execution_count": 1,
   "metadata": {},
   "outputs": [],
   "source": [
    "import sys\n",
    "import os\n",
    "import glob\n",
    "import re \n",
    "import pandas as pd\n",
    "import numpy as np\n",
    "from lxml import etree\n",
    "import matplotlib.pyplot as plt\n",
    "import requests\n",
    "import time\n",
    "from collections import Counter\n"
   ]
  },
  {
   "cell_type": "code",
   "execution_count": 2,
   "metadata": {},
   "outputs": [],
   "source": [
    "document = etree.parse('./../../../TEIBible.xml')"
   ]
  },
  {
   "cell_type": "code",
   "execution_count": 4,
   "metadata": {},
   "outputs": [],
   "source": [
    "root = document.getroot()"
   ]
  },
  {
   "cell_type": "code",
   "execution_count": 5,
   "metadata": {},
   "outputs": [],
   "source": [
    "namespaces_concretos = {\"tei\" : \"http://www.tei-c.org/ns/1.0\"}\n"
   ]
  },
  {
   "cell_type": "code",
   "execution_count": 8,
   "metadata": {},
   "outputs": [
    {
     "data": {
      "text/plain": [
       "[<Element {http://www.tei-c.org/ns/1.0}TEI at 0x1dbe835c500>,\n",
       " <Element {http://www.tei-c.org/ns/1.0}TEI at 0x1dbe835ec40>,\n",
       " <Element {http://www.tei-c.org/ns/1.0}TEI at 0x1dbe835d7c0>,\n",
       " <Element {http://www.tei-c.org/ns/1.0}TEI at 0x1dbe835e040>,\n",
       " <Element {http://www.tei-c.org/ns/1.0}TEI at 0x1dbe835e840>,\n",
       " <Element {http://www.tei-c.org/ns/1.0}TEI at 0x1dbe835d900>,\n",
       " <Element {http://www.tei-c.org/ns/1.0}TEI at 0x1dbe835d800>,\n",
       " <Element {http://www.tei-c.org/ns/1.0}TEI at 0x1dbe835d840>,\n",
       " <Element {http://www.tei-c.org/ns/1.0}TEI at 0x1dbe835d940>,\n",
       " <Element {http://www.tei-c.org/ns/1.0}TEI at 0x1dbe835d700>,\n",
       " <Element {http://www.tei-c.org/ns/1.0}TEI at 0x1dbe835d780>,\n",
       " <Element {http://www.tei-c.org/ns/1.0}TEI at 0x1dbe835d740>,\n",
       " <Element {http://www.tei-c.org/ns/1.0}TEI at 0x1dbe835ec80>,\n",
       " <Element {http://www.tei-c.org/ns/1.0}TEI at 0x1dbe835ef00>,\n",
       " <Element {http://www.tei-c.org/ns/1.0}TEI at 0x1dbe835f000>,\n",
       " <Element {http://www.tei-c.org/ns/1.0}TEI at 0x1dbe835efc0>,\n",
       " <Element {http://www.tei-c.org/ns/1.0}TEI at 0x1dbe835e500>,\n",
       " <Element {http://www.tei-c.org/ns/1.0}TEI at 0x1dbe835e580>,\n",
       " <Element {http://www.tei-c.org/ns/1.0}TEI at 0x1dbe835ce80>,\n",
       " <Element {http://www.tei-c.org/ns/1.0}TEI at 0x1dbe835ee80>,\n",
       " <Element {http://www.tei-c.org/ns/1.0}TEI at 0x1dbe835eec0>,\n",
       " <Element {http://www.tei-c.org/ns/1.0}TEI at 0x1dbe835cec0>,\n",
       " <Element {http://www.tei-c.org/ns/1.0}TEI at 0x1dbe835ef80>,\n",
       " <Element {http://www.tei-c.org/ns/1.0}TEI at 0x1dbe835e7c0>,\n",
       " <Element {http://www.tei-c.org/ns/1.0}TEI at 0x1dbe835e000>,\n",
       " <Element {http://www.tei-c.org/ns/1.0}TEI at 0x1dbe835e1c0>,\n",
       " <Element {http://www.tei-c.org/ns/1.0}TEI at 0x1dbe835f2c0>,\n",
       " <Element {http://www.tei-c.org/ns/1.0}TEI at 0x1dbe835f100>,\n",
       " <Element {http://www.tei-c.org/ns/1.0}TEI at 0x1dbe835d300>,\n",
       " <Element {http://www.tei-c.org/ns/1.0}TEI at 0x1dbe835f040>,\n",
       " <Element {http://www.tei-c.org/ns/1.0}TEI at 0x1dbe835e3c0>,\n",
       " <Element {http://www.tei-c.org/ns/1.0}TEI at 0x1dbe835f280>,\n",
       " <Element {http://www.tei-c.org/ns/1.0}TEI at 0x1dbe835f300>,\n",
       " <Element {http://www.tei-c.org/ns/1.0}TEI at 0x1dbe835f340>,\n",
       " <Element {http://www.tei-c.org/ns/1.0}TEI at 0x1dbe835f380>,\n",
       " <Element {http://www.tei-c.org/ns/1.0}TEI at 0x1dbe835f3c0>,\n",
       " <Element {http://www.tei-c.org/ns/1.0}TEI at 0x1dbe835f400>,\n",
       " <Element {http://www.tei-c.org/ns/1.0}TEI at 0x1dbe835f440>,\n",
       " <Element {http://www.tei-c.org/ns/1.0}TEI at 0x1dbe835f480>,\n",
       " <Element {http://www.tei-c.org/ns/1.0}TEI at 0x1dbe835f4c0>,\n",
       " <Element {http://www.tei-c.org/ns/1.0}TEI at 0x1dbe835f500>,\n",
       " <Element {http://www.tei-c.org/ns/1.0}TEI at 0x1dbe835f540>,\n",
       " <Element {http://www.tei-c.org/ns/1.0}TEI at 0x1dbe835f580>,\n",
       " <Element {http://www.tei-c.org/ns/1.0}TEI at 0x1dbe835f5c0>,\n",
       " <Element {http://www.tei-c.org/ns/1.0}TEI at 0x1dbe835f600>,\n",
       " <Element {http://www.tei-c.org/ns/1.0}TEI at 0x1dbe835f640>,\n",
       " <Element {http://www.tei-c.org/ns/1.0}TEI at 0x1dbe835f680>,\n",
       " <Element {http://www.tei-c.org/ns/1.0}TEI at 0x1dbe835f6c0>,\n",
       " <Element {http://www.tei-c.org/ns/1.0}TEI at 0x1dbe835f700>,\n",
       " <Element {http://www.tei-c.org/ns/1.0}TEI at 0x1dbe835f740>,\n",
       " <Element {http://www.tei-c.org/ns/1.0}TEI at 0x1dbe835f780>,\n",
       " <Element {http://www.tei-c.org/ns/1.0}TEI at 0x1dbe835f7c0>,\n",
       " <Element {http://www.tei-c.org/ns/1.0}TEI at 0x1dbe835f800>,\n",
       " <Element {http://www.tei-c.org/ns/1.0}TEI at 0x1dbe835f840>,\n",
       " <Element {http://www.tei-c.org/ns/1.0}TEI at 0x1dbe835f880>,\n",
       " <Element {http://www.tei-c.org/ns/1.0}TEI at 0x1dbe835f8c0>,\n",
       " <Element {http://www.tei-c.org/ns/1.0}TEI at 0x1dbe835f900>,\n",
       " <Element {http://www.tei-c.org/ns/1.0}TEI at 0x1dbe835f940>,\n",
       " <Element {http://www.tei-c.org/ns/1.0}TEI at 0x1dbe835f980>,\n",
       " <Element {http://www.tei-c.org/ns/1.0}TEI at 0x1dbe835f9c0>,\n",
       " <Element {http://www.tei-c.org/ns/1.0}TEI at 0x1dbe835fa00>,\n",
       " <Element {http://www.tei-c.org/ns/1.0}TEI at 0x1dbe835fa40>,\n",
       " <Element {http://www.tei-c.org/ns/1.0}TEI at 0x1dbe835fa80>,\n",
       " <Element {http://www.tei-c.org/ns/1.0}TEI at 0x1dbe835fac0>,\n",
       " <Element {http://www.tei-c.org/ns/1.0}TEI at 0x1dbe835fb00>,\n",
       " <Element {http://www.tei-c.org/ns/1.0}TEI at 0x1dbe835fb40>]"
      ]
     },
     "execution_count": 8,
     "metadata": {},
     "output_type": "execute_result"
    }
   ],
   "source": [
    "root.xpath('/tei:teiCorpus/tei:TEI', namespaces=namespaces_concretos)"
   ]
  },
  {
   "cell_type": "code",
   "execution_count": 25,
   "metadata": {},
   "outputs": [],
   "source": [
    "for book in root.xpath('/tei:teiCorpus/tei:TEI', namespaces=namespaces_concretos):\n",
    "    string_book = book.xpath('.//tei:title[@type=\"idno\"]/tei:idno[@type=\"string\"]/text()', namespaces=namespaces_concretos)[0]\n",
    "\n",
    "    et = etree.ElementTree(book)\n",
    "    et.write('./../../../resulting data/split/' + string_book +  '.xml', encoding=\"utf8\")    "
   ]
  },
  {
   "cell_type": "code",
   "execution_count": null,
   "metadata": {},
   "outputs": [],
   "source": []
  }
 ],
 "metadata": {
  "kernelspec": {
   "display_name": "base",
   "language": "python",
   "name": "python3"
  },
  "language_info": {
   "codemirror_mode": {
    "name": "ipython",
    "version": 3
   },
   "file_extension": ".py",
   "mimetype": "text/x-python",
   "name": "python",
   "nbconvert_exporter": "python",
   "pygments_lexer": "ipython3",
   "version": "3.11.7"
  },
  "orig_nbformat": 2
 },
 "nbformat": 4,
 "nbformat_minor": 2
}
